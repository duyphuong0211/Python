{
 "cells": [
  {
   "cell_type": "code",
   "execution_count": 1,
   "id": "9869da4b",
   "metadata": {},
   "outputs": [
    {
     "name": "stdout",
     "output_type": "stream",
     "text": [
      "Hello World\n"
     ]
    }
   ],
   "source": [
    "print(\"Hello World\")\n"
   ]
  },
  {
   "cell_type": "code",
   "execution_count": 2,
   "id": "94b4a496",
   "metadata": {},
   "outputs": [
    {
     "name": "stdout",
     "output_type": "stream",
     "text": [
      "Hello World\n"
     ]
    }
   ],
   "source": [
    "print(\"Hello World\")"
   ]
  },
  {
   "cell_type": "code",
   "execution_count": 3,
   "id": "4313e02a",
   "metadata": {},
   "outputs": [
    {
     "name": "stdout",
     "output_type": "stream",
     "text": [
      "Hello World\n"
     ]
    }
   ],
   "source": [
    "print(\"Hello World\")"
   ]
  },
  {
   "cell_type": "code",
   "execution_count": 4,
   "id": "ca5691e2",
   "metadata": {},
   "outputs": [
    {
     "data": {
      "text/plain": [
       "2"
      ]
     },
     "execution_count": 4,
     "metadata": {},
     "output_type": "execute_result"
    }
   ],
   "source": [
    "1 + 1\n"
   ]
  },
  {
   "cell_type": "code",
   "execution_count": 5,
   "id": "f03cb427",
   "metadata": {},
   "outputs": [
    {
     "data": {
      "text/plain": [
       "3"
      ]
     },
     "execution_count": 5,
     "metadata": {},
     "output_type": "execute_result"
    }
   ],
   "source": [
    "1 * 3"
   ]
  },
  {
   "cell_type": "code",
   "execution_count": 6,
   "id": "cbcb7d98",
   "metadata": {},
   "outputs": [
    {
     "data": {
      "text/plain": [
       "0.5"
      ]
     },
     "execution_count": 6,
     "metadata": {},
     "output_type": "execute_result"
    }
   ],
   "source": [
    "1 / 2"
   ]
  },
  {
   "cell_type": "code",
   "execution_count": 7,
   "id": "a06f2b75",
   "metadata": {},
   "outputs": [
    {
     "data": {
      "text/plain": [
       "16"
      ]
     },
     "execution_count": 7,
     "metadata": {},
     "output_type": "execute_result"
    }
   ],
   "source": [
    "2 ** 4"
   ]
  },
  {
   "cell_type": "code",
   "execution_count": 8,
   "id": "3c83801c",
   "metadata": {},
   "outputs": [
    {
     "data": {
      "text/plain": [
       "0"
      ]
     },
     "execution_count": 8,
     "metadata": {},
     "output_type": "execute_result"
    }
   ],
   "source": [
    "4 % 2\n"
   ]
  },
  {
   "cell_type": "code",
   "execution_count": 9,
   "id": "078eba74",
   "metadata": {},
   "outputs": [
    {
     "data": {
      "text/plain": [
       "1"
      ]
     },
     "execution_count": 9,
     "metadata": {},
     "output_type": "execute_result"
    }
   ],
   "source": [
    "5 % 2"
   ]
  },
  {
   "cell_type": "code",
   "execution_count": 10,
   "id": "a47c5675",
   "metadata": {},
   "outputs": [
    {
     "data": {
      "text/plain": [
       "50"
      ]
     },
     "execution_count": 10,
     "metadata": {},
     "output_type": "execute_result"
    }
   ],
   "source": [
    "(2 + 3) * (5 + 5)"
   ]
  },
  {
   "cell_type": "code",
   "execution_count": 11,
   "id": "85fa4984",
   "metadata": {},
   "outputs": [],
   "source": [
    "# Can not start with numer or special charaters\n",
    "name_of_var = 2"
   ]
  },
  {
   "cell_type": "code",
   "execution_count": 12,
   "id": "3ed27e4a",
   "metadata": {},
   "outputs": [],
   "source": [
    "x = 2"
   ]
  },
  {
   "cell_type": "code",
   "execution_count": 13,
   "id": "e7a6a8b3",
   "metadata": {},
   "outputs": [],
   "source": [
    "x = 2\n",
    "y = 3"
   ]
  },
  {
   "cell_type": "code",
   "execution_count": 14,
   "id": "db8a0590",
   "metadata": {},
   "outputs": [],
   "source": [
    "z = x + y"
   ]
  },
  {
   "cell_type": "code",
   "execution_count": 15,
   "id": "9c00beaf",
   "metadata": {},
   "outputs": [
    {
     "data": {
      "text/plain": [
       "5"
      ]
     },
     "execution_count": 15,
     "metadata": {},
     "output_type": "execute_result"
    }
   ],
   "source": [
    "z\n"
   ]
  },
  {
   "cell_type": "code",
   "execution_count": 16,
   "id": "f6627d24",
   "metadata": {},
   "outputs": [
    {
     "data": {
      "text/plain": [
       "'single quotes'"
      ]
     },
     "execution_count": 16,
     "metadata": {},
     "output_type": "execute_result"
    }
   ],
   "source": [
    "'single quotes'"
   ]
  },
  {
   "cell_type": "code",
   "execution_count": 17,
   "id": "d7151736",
   "metadata": {},
   "outputs": [
    {
     "data": {
      "text/plain": [
       "'double quotes'"
      ]
     },
     "execution_count": 17,
     "metadata": {},
     "output_type": "execute_result"
    }
   ],
   "source": [
    "\"double quotes\""
   ]
  },
  {
   "cell_type": "code",
   "execution_count": 18,
   "id": "f3efe601",
   "metadata": {},
   "outputs": [
    {
     "data": {
      "text/plain": [
       "\" wrap lot's of other quotes\""
      ]
     },
     "execution_count": 18,
     "metadata": {},
     "output_type": "execute_result"
    }
   ],
   "source": [
    "\" wrap lot's of other quotes\""
   ]
  },
  {
   "cell_type": "code",
   "execution_count": 19,
   "id": "41c8aedc",
   "metadata": {},
   "outputs": [
    {
     "ename": "SyntaxError",
     "evalue": "invalid syntax (753688905.py, line 1)",
     "output_type": "error",
     "traceback": [
      "\u001b[0;36m  File \u001b[0;32m\"/var/folders/6d/lm0czrvn1ssgbj_b9dyg092r0000gn/T/ipykernel_18930/753688905.py\"\u001b[0;36m, line \u001b[0;32m1\u001b[0m\n\u001b[0;31m    x = ;hello\u001b[0m\n\u001b[0m        ^\u001b[0m\n\u001b[0;31mSyntaxError\u001b[0m\u001b[0;31m:\u001b[0m invalid syntax\n"
     ]
    }
   ],
   "source": [
    "x = ;hello"
   ]
  },
  {
   "cell_type": "code",
   "execution_count": null,
   "id": "d2d7629f",
   "metadata": {},
   "outputs": [],
   "source": [
    "x = hello"
   ]
  },
  {
   "cell_type": "code",
   "execution_count": null,
   "id": "f0639deb",
   "metadata": {},
   "outputs": [],
   "source": [
    "x = hello"
   ]
  },
  {
   "cell_type": "code",
   "execution_count": null,
   "id": "af6194d2",
   "metadata": {},
   "outputs": [],
   "source": [
    "y = hello"
   ]
  },
  {
   "cell_type": "code",
   "execution_count": null,
   "id": "b2541ac2",
   "metadata": {},
   "outputs": [],
   "source": [
    "x = 'hello'"
   ]
  },
  {
   "cell_type": "code",
   "execution_count": null,
   "id": "e97869bc",
   "metadata": {},
   "outputs": [],
   "source": [
    "x\n"
   ]
  },
  {
   "cell_type": "code",
   "execution_count": null,
   "id": "dad8889f",
   "metadata": {},
   "outputs": [],
   "source": [
    "print(x)"
   ]
  },
  {
   "cell_type": "code",
   "execution_count": null,
   "id": "ac846819",
   "metadata": {},
   "outputs": [],
   "source": [
    "num = 12\n",
    "name 'Phuong'"
   ]
  },
  {
   "cell_type": "code",
   "execution_count": null,
   "id": "e1393d1e",
   "metadata": {},
   "outputs": [],
   "source": [
    "name = 'Phuong'"
   ]
  },
  {
   "cell_type": "code",
   "execution_count": null,
   "id": "ee0aee1f",
   "metadata": {},
   "outputs": [],
   "source": [
    "print('My number is {num}, and my name is: {name}').format(num = num, name = name)"
   ]
  },
  {
   "cell_type": "code",
   "execution_count": null,
   "id": "1c1f5de9",
   "metadata": {},
   "outputs": [],
   "source": [
    "print('My number is {num}, and my name is: {name}').format(num,name)"
   ]
  },
  {
   "cell_type": "code",
   "execution_count": null,
   "id": "ee314ff0",
   "metadata": {},
   "outputs": [],
   "source": [
    "print('My number is {num}, and my name is: {name}').format(num,name)"
   ]
  },
  {
   "cell_type": "code",
   "execution_count": null,
   "id": "d4495af5",
   "metadata": {},
   "outputs": [],
   "source": [
    "print('My number is {num}, and my name is: {name}').format(num,name))"
   ]
  },
  {
   "cell_type": "code",
   "execution_count": null,
   "id": "ee00e32f",
   "metadata": {},
   "outputs": [],
   "source": [
    "print('My number is {num}, and my name is: {name}'.format(num,name)"
   ]
  },
  {
   "cell_type": "code",
   "execution_count": null,
   "id": "49843e57",
   "metadata": {},
   "outputs": [],
   "source": [
    "print('My number is {}, and my name is: {}'.format(num,name)"
   ]
  },
  {
   "cell_type": "code",
   "execution_count": null,
   "id": "1adb0344",
   "metadata": {},
   "outputs": [],
   "source": [
    "x = 'hello'"
   ]
  },
  {
   "cell_type": "code",
   "execution_count": null,
   "id": "bafdeeb6",
   "metadata": {},
   "outputs": [],
   "source": [
    "x\n"
   ]
  },
  {
   "cell_type": "code",
   "execution_count": null,
   "id": "230a4d01",
   "metadata": {},
   "outputs": [],
   "source": [
    "print(x)"
   ]
  },
  {
   "cell_type": "code",
   "execution_count": null,
   "id": "ddf5aebc",
   "metadata": {},
   "outputs": [],
   "source": [
    "num = 12\n",
    "name = 'Phuong'"
   ]
  },
  {
   "cell_type": "code",
   "execution_count": null,
   "id": "4b36862b",
   "metadata": {},
   "outputs": [],
   "source": [
    "print('Num is: {}, name is: {}'.format(num,name))"
   ]
  },
  {
   "cell_type": "code",
   "execution_count": null,
   "id": "fa3e82e1",
   "metadata": {},
   "outputs": [],
   "source": [
    "[1,23]"
   ]
  },
  {
   "cell_type": "code",
   "execution_count": null,
   "id": "c2d6b9df",
   "metadata": {},
   "outputs": [],
   "source": [
    "['hi', 1,[1,2]]"
   ]
  },
  {
   "cell_type": "code",
   "execution_count": null,
   "id": "b1b1e636",
   "metadata": {},
   "outputs": [],
   "source": [
    "myList = ['a','b']"
   ]
  },
  {
   "cell_type": "code",
   "execution_count": null,
   "id": "911d29d0",
   "metadata": {},
   "outputs": [],
   "source": [
    "myList.append('d')"
   ]
  },
  {
   "cell_type": "code",
   "execution_count": null,
   "id": "2d1be96f",
   "metadata": {},
   "outputs": [],
   "source": [
    "myList"
   ]
  },
  {
   "cell_type": "code",
   "execution_count": null,
   "id": "084547ed",
   "metadata": {},
   "outputs": [],
   "source": [
    "myList[0]"
   ]
  },
  {
   "cell_type": "code",
   "execution_count": null,
   "id": "e0e2f3b6",
   "metadata": {},
   "outputs": [],
   "source": [
    "Mylist[2]"
   ]
  },
  {
   "cell_type": "code",
   "execution_count": null,
   "id": "da472ed0",
   "metadata": {},
   "outputs": [],
   "source": [
    "myList[:1]"
   ]
  },
  {
   "cell_type": "code",
   "execution_count": null,
   "id": "1f9da03f",
   "metadata": {},
   "outputs": [],
   "source": [
    "myList[0] = 'New'"
   ]
  },
  {
   "cell_type": "code",
   "execution_count": null,
   "id": "5d230fcf",
   "metadata": {},
   "outputs": [],
   "source": [
    "myList"
   ]
  },
  {
   "cell_type": "code",
   "execution_count": null,
   "id": "108acb31",
   "metadata": {},
   "outputs": [],
   "source": [
    "nest =[1,2,3,4,['target',6]]"
   ]
  },
  {
   "cell_type": "code",
   "execution_count": null,
   "id": "91244451",
   "metadata": {},
   "outputs": [],
   "source": [
    "nest[4]"
   ]
  },
  {
   "cell_type": "code",
   "execution_count": null,
   "id": "e2c6c26f",
   "metadata": {},
   "outputs": [],
   "source": [
    "nest[4][3]"
   ]
  },
  {
   "cell_type": "code",
   "execution_count": null,
   "id": "993c4dc2",
   "metadata": {},
   "outputs": [],
   "source": [
    "nest[4][0]"
   ]
  },
  {
   "cell_type": "code",
   "execution_count": null,
   "id": "d36fa7eb",
   "metadata": {},
   "outputs": [],
   "source": [
    "nest[4][0][0]"
   ]
  },
  {
   "cell_type": "code",
   "execution_count": null,
   "id": "29dc400f",
   "metadata": {},
   "outputs": [],
   "source": [
    "d = {'key1':'item1','key2':'item2'}"
   ]
  },
  {
   "cell_type": "code",
   "execution_count": null,
   "id": "47e9b71f",
   "metadata": {},
   "outputs": [],
   "source": [
    "d\n"
   ]
  },
  {
   "cell_type": "code",
   "execution_count": null,
   "id": "cc2fc76b",
   "metadata": {},
   "outputs": [],
   "source": [
    "d['key1']"
   ]
  },
  {
   "cell_type": "code",
   "execution_count": null,
   "id": "8f07a9fd",
   "metadata": {},
   "outputs": [],
   "source": [
    "True"
   ]
  },
  {
   "cell_type": "code",
   "execution_count": null,
   "id": "2d976834",
   "metadata": {},
   "outputs": [],
   "source": [
    "False"
   ]
  },
  {
   "cell_type": "code",
   "execution_count": null,
   "id": "03d238d2",
   "metadata": {},
   "outputs": [],
   "source": [
    "t = (1,2,3)"
   ]
  },
  {
   "cell_type": "code",
   "execution_count": null,
   "id": "2c9f4112",
   "metadata": {},
   "outputs": [],
   "source": [
    "t[0]"
   ]
  },
  {
   "cell_type": "code",
   "execution_count": null,
   "id": "4345d06c",
   "metadata": {},
   "outputs": [],
   "source": [
    "t[0]= 'New'"
   ]
  },
  {
   "cell_type": "code",
   "execution_count": null,
   "id": "8099ddd0",
   "metadata": {},
   "outputs": [],
   "source": [
    "{1,2,3}"
   ]
  },
  {
   "cell_type": "code",
   "execution_count": null,
   "id": "a5959f65",
   "metadata": {},
   "outputs": [],
   "source": [
    "{1,2,3,1,2,3,33,3,3,3,3,3,1,2,1}"
   ]
  },
  {
   "cell_type": "code",
   "execution_count": null,
   "id": "d858cd51",
   "metadata": {},
   "outputs": [],
   "source": [
    "1>2"
   ]
  },
  {
   "cell_type": "code",
   "execution_count": null,
   "id": "23c9f499",
   "metadata": {},
   "outputs": [],
   "source": [
    "1<2"
   ]
  },
  {
   "cell_type": "code",
   "execution_count": null,
   "id": "f475b8f7",
   "metadata": {},
   "outputs": [],
   "source": [
    "1>=1"
   ]
  },
  {
   "cell_type": "code",
   "execution_count": null,
   "id": "9a5b3ceb",
   "metadata": {},
   "outputs": [],
   "source": [
    "1<=4"
   ]
  },
  {
   "cell_type": "code",
   "execution_count": null,
   "id": "e23e9183",
   "metadata": {},
   "outputs": [],
   "source": [
    "1==1"
   ]
  },
  {
   "cell_type": "code",
   "execution_count": null,
   "id": "997d7364",
   "metadata": {},
   "outputs": [],
   "source": [
    "'hi' == 'bye'"
   ]
  },
  {
   "cell_type": "code",
   "execution_count": null,
   "id": "e11265d8",
   "metadata": {},
   "outputs": [],
   "source": [
    " (1>2) and (2<3)"
   ]
  },
  {
   "cell_type": "code",
   "execution_count": null,
   "id": "3e6a2b0d",
   "metadata": {},
   "outputs": [],
   "source": [
    "(1>2) or(2<3)"
   ]
  },
  {
   "cell_type": "code",
   "execution_count": null,
   "id": "30443072",
   "metadata": {},
   "outputs": [],
   "source": [
    "(1==2)or(2==3)or(4==4)"
   ]
  },
  {
   "cell_type": "code",
   "execution_count": null,
   "id": "3fdbcca1",
   "metadata": {},
   "outputs": [],
   "source": [
    "if 1 <2;\n",
    "print('Yep1')"
   ]
  },
  {
   "cell_type": "code",
   "execution_count": null,
   "id": "da8c75d2",
   "metadata": {},
   "outputs": [],
   "source": [
    "if 1 <2:\n",
    "print('Yep1')"
   ]
  },
  {
   "cell_type": "code",
   "execution_count": null,
   "id": "50ad5c17",
   "metadata": {},
   "outputs": [],
   "source": [
    "if 1 < 2:"
   ]
  },
  {
   "cell_type": "code",
   "execution_count": null,
   "id": "c3590027",
   "metadata": {},
   "outputs": [],
   "source": [
    "if 1 >2:\n",
    "    print('first')\n",
    "    else:\n",
    "        print('last')"
   ]
  },
  {
   "cell_type": "code",
   "execution_count": null,
   "id": "fbbfcf5c",
   "metadata": {},
   "outputs": [],
   "source": [
    "if 1 >2:\n",
    "    print('first')\n",
    "else:\n",
    "    print('last')"
   ]
  },
  {
   "cell_type": "code",
   "execution_count": null,
   "id": "28dff622",
   "metadata": {},
   "outputs": [],
   "source": [
    "if 1==2:\n",
    "    print('first')\n",
    "elif 3 == 3:\n",
    "    print('middle')"
   ]
  },
  {
   "cell_type": "code",
   "execution_count": null,
   "id": "4d86b5e7",
   "metadata": {},
   "outputs": [],
   "source": [
    "if 1==2:\n",
    "    print('first')\n",
    "elif 3 == 3:\n",
    "    print('middle')\n",
    "else:\n",
    "    print('last')"
   ]
  },
  {
   "cell_type": "code",
   "execution_count": null,
   "id": "831f25be",
   "metadata": {},
   "outputs": [],
   "source": [
    "seq = [1,2,3,4,5]"
   ]
  },
  {
   "cell_type": "code",
   "execution_count": null,
   "id": "067ad5ef",
   "metadata": {},
   "outputs": [],
   "source": [
    "for item in seq:\n",
    "    print('Ok')"
   ]
  },
  {
   "cell_type": "code",
   "execution_count": null,
   "id": "2e119902",
   "metadata": {},
   "outputs": [],
   "source": [
    "for jelley in seq:\n",
    "    print(jelly+jelley)"
   ]
  },
  {
   "cell_type": "code",
   "execution_count": null,
   "id": "dd0e25de",
   "metadata": {},
   "outputs": [],
   "source": [
    "for jelly in seq:\n",
    "    print(jelly + jelly)"
   ]
  },
  {
   "cell_type": "code",
   "execution_count": null,
   "id": "2458b095",
   "metadata": {},
   "outputs": [],
   "source": []
  },
  {
   "cell_type": "code",
   "execution_count": null,
   "id": "579fc139",
   "metadata": {},
   "outputs": [],
   "source": []
  },
  {
   "cell_type": "code",
   "execution_count": 20,
   "id": "4564fd1c",
   "metadata": {},
   "outputs": [],
   "source": [
    "i = 1"
   ]
  },
  {
   "cell_type": "code",
   "execution_count": 21,
   "id": "2b598da2",
   "metadata": {},
   "outputs": [
    {
     "data": {
      "text/plain": [
       "1"
      ]
     },
     "execution_count": 21,
     "metadata": {},
     "output_type": "execute_result"
    }
   ],
   "source": [
    "i\n"
   ]
  },
  {
   "cell_type": "code",
   "execution_count": 23,
   "id": "d3061253",
   "metadata": {},
   "outputs": [],
   "source": [
    "seq=[1,2,3]"
   ]
  },
  {
   "cell_type": "code",
   "execution_count": 24,
   "id": "20eabe24",
   "metadata": {},
   "outputs": [
    {
     "name": "stdout",
     "output_type": "stream",
     "text": [
      "ok\n",
      "ok\n",
      "ok\n"
     ]
    }
   ],
   "source": [
    "for item in seq:\n",
    "    print('ok')"
   ]
  },
  {
   "cell_type": "code",
   "execution_count": 25,
   "id": "70e7e619",
   "metadata": {},
   "outputs": [
    {
     "name": "stdout",
     "output_type": "stream",
     "text": [
      "oke\n",
      "oke\n",
      "oke\n"
     ]
    }
   ],
   "source": [
    "for ok in seq:\n",
    "    print('oke')"
   ]
  },
  {
   "cell_type": "code",
   "execution_count": 26,
   "id": "fbaa496a",
   "metadata": {},
   "outputs": [
    {
     "name": "stdout",
     "output_type": "stream",
     "text": [
      "2\n",
      "4\n",
      "6\n"
     ]
    }
   ],
   "source": [
    "for ok in seq:\n",
    "    print(ok+ok)"
   ]
  },
  {
   "cell_type": "code",
   "execution_count": 27,
   "id": "b2228dbf",
   "metadata": {},
   "outputs": [
    {
     "name": "stdout",
     "output_type": "stream",
     "text": [
      "i is:1\n",
      "i is:2\n",
      "i is:3\n",
      "i is:4\n"
     ]
    }
   ],
   "source": [
    "i = 1\n",
    "while i < 5:\n",
    "    print('i is:{}'.format(i))\n",
    "    i = i +1"
   ]
  },
  {
   "cell_type": "code",
   "execution_count": 28,
   "id": "d21e163a",
   "metadata": {},
   "outputs": [
    {
     "name": "stdout",
     "output_type": "stream",
     "text": [
      "i is: 1\n",
      "i is: 2\n",
      "i is: 3\n",
      "i is: 4\n"
     ]
    }
   ],
   "source": [
    "i = 1\n",
    "while i < 5:\n",
    "    print('i is: {}'.format(i))\n",
    "    i = i+1"
   ]
  },
  {
   "cell_type": "code",
   "execution_count": 30,
   "id": "6bb7c9a9",
   "metadata": {},
   "outputs": [
    {
     "data": {
      "text/plain": [
       "range(0, 5)"
      ]
     },
     "execution_count": 30,
     "metadata": {},
     "output_type": "execute_result"
    }
   ],
   "source": [
    "range(5)"
   ]
  },
  {
   "cell_type": "code",
   "execution_count": 31,
   "id": "24a162d9",
   "metadata": {},
   "outputs": [
    {
     "name": "stdout",
     "output_type": "stream",
     "text": [
      "0\n",
      "1\n",
      "2\n",
      "3\n",
      "4\n"
     ]
    }
   ],
   "source": [
    "for i in range(5):\n",
    "    print(i)"
   ]
  },
  {
   "cell_type": "code",
   "execution_count": 32,
   "id": "13b49ef8",
   "metadata": {},
   "outputs": [],
   "source": [
    "x = [1,2,3,4]"
   ]
  },
  {
   "cell_type": "code",
   "execution_count": 33,
   "id": "6505a216",
   "metadata": {},
   "outputs": [
    {
     "name": "stdout",
     "output_type": "stream",
     "text": [
      "[1, 4, 9, 16]\n"
     ]
    }
   ],
   "source": [
    "out = []\n",
    "for item in x:\n",
    "    out.append(item**2)\n",
    "print(out)"
   ]
  },
  {
   "cell_type": "code",
   "execution_count": 34,
   "id": "7d00cf93",
   "metadata": {},
   "outputs": [
    {
     "data": {
      "text/plain": [
       "[1, 4, 9, 16]"
      ]
     },
     "execution_count": 34,
     "metadata": {},
     "output_type": "execute_result"
    }
   ],
   "source": [
    "[item**2 for item in x]"
   ]
  },
  {
   "cell_type": "code",
   "execution_count": 39,
   "id": "c8c1b1b8",
   "metadata": {},
   "outputs": [],
   "source": [
    "def myFunc(param1='default'):\n",
    "    print(param1)"
   ]
  },
  {
   "cell_type": "code",
   "execution_count": 40,
   "id": "c379e947",
   "metadata": {},
   "outputs": [
    {
     "name": "stdout",
     "output_type": "stream",
     "text": [
      "default\n"
     ]
    }
   ],
   "source": [
    "myFunc()"
   ]
  },
  {
   "cell_type": "code",
   "execution_count": 41,
   "id": "6fdc10e5",
   "metadata": {},
   "outputs": [
    {
     "name": "stdout",
     "output_type": "stream",
     "text": [
      "new param\n"
     ]
    }
   ],
   "source": [
    "myFunc('new param')"
   ]
  },
  {
   "cell_type": "code",
   "execution_count": 42,
   "id": "0edbcf05",
   "metadata": {},
   "outputs": [
    {
     "name": "stdout",
     "output_type": "stream",
     "text": [
      "new param\n"
     ]
    }
   ],
   "source": [
    "myFunc(param1='new param')"
   ]
  },
  {
   "cell_type": "code",
   "execution_count": 43,
   "id": "4cf226a0",
   "metadata": {},
   "outputs": [],
   "source": [
    "def square(x):\n",
    "    return x**2"
   ]
  },
  {
   "cell_type": "code",
   "execution_count": 44,
   "id": "e8ec0854",
   "metadata": {},
   "outputs": [],
   "source": [
    "out = square(2)"
   ]
  },
  {
   "cell_type": "code",
   "execution_count": 45,
   "id": "5e1ce0ed",
   "metadata": {},
   "outputs": [
    {
     "name": "stdout",
     "output_type": "stream",
     "text": [
      "4\n"
     ]
    }
   ],
   "source": [
    "print(out)"
   ]
  },
  {
   "cell_type": "code",
   "execution_count": 46,
   "id": "428b6e9d",
   "metadata": {},
   "outputs": [],
   "source": [
    "def times(var):\n",
    "    return var*2"
   ]
  },
  {
   "cell_type": "code",
   "execution_count": 47,
   "id": "95c16944",
   "metadata": {},
   "outputs": [
    {
     "data": {
      "text/plain": [
       "4"
      ]
     },
     "execution_count": 47,
     "metadata": {},
     "output_type": "execute_result"
    }
   ],
   "source": [
    "times(2)"
   ]
  },
  {
   "cell_type": "code",
   "execution_count": 49,
   "id": "552d650a",
   "metadata": {},
   "outputs": [
    {
     "data": {
      "text/plain": [
       "<function __main__.<lambda>(var)>"
      ]
     },
     "execution_count": 49,
     "metadata": {},
     "output_type": "execute_result"
    }
   ],
   "source": [
    "lambda var: var*2"
   ]
  },
  {
   "cell_type": "code",
   "execution_count": 50,
   "id": "ef92f47d",
   "metadata": {},
   "outputs": [],
   "source": [
    "seq = [1,2,3]"
   ]
  },
  {
   "cell_type": "code",
   "execution_count": 51,
   "id": "0bef039b",
   "metadata": {},
   "outputs": [
    {
     "data": {
      "text/plain": [
       "<map at 0x7fac18371f40>"
      ]
     },
     "execution_count": 51,
     "metadata": {},
     "output_type": "execute_result"
    }
   ],
   "source": [
    "map(times,seq)"
   ]
  },
  {
   "cell_type": "code",
   "execution_count": 52,
   "id": "767182fa",
   "metadata": {},
   "outputs": [
    {
     "data": {
      "text/plain": [
       "[2, 4, 6]"
      ]
     },
     "execution_count": 52,
     "metadata": {},
     "output_type": "execute_result"
    }
   ],
   "source": [
    "list(map(times,seq))"
   ]
  },
  {
   "cell_type": "code",
   "execution_count": 53,
   "id": "231168ab",
   "metadata": {},
   "outputs": [
    {
     "data": {
      "text/plain": [
       "[2, 4, 6]"
      ]
     },
     "execution_count": 53,
     "metadata": {},
     "output_type": "execute_result"
    }
   ],
   "source": [
    "list(map(lambda var: var*2,seq))"
   ]
  },
  {
   "cell_type": "code",
   "execution_count": 54,
   "id": "5285cfa3",
   "metadata": {},
   "outputs": [
    {
     "data": {
      "text/plain": [
       "<filter at 0x7fac18371820>"
      ]
     },
     "execution_count": 54,
     "metadata": {},
     "output_type": "execute_result"
    }
   ],
   "source": [
    "filter(lambda item: item%2 == 0, seq)"
   ]
  },
  {
   "cell_type": "code",
   "execution_count": 55,
   "id": "252ac343",
   "metadata": {},
   "outputs": [
    {
     "data": {
      "text/plain": [
       "[2]"
      ]
     },
     "execution_count": 55,
     "metadata": {},
     "output_type": "execute_result"
    }
   ],
   "source": [
    "list(filter(lambda item: item%2 == 0, seq))"
   ]
  },
  {
   "cell_type": "code",
   "execution_count": 56,
   "id": "88c7ce04",
   "metadata": {},
   "outputs": [],
   "source": [
    "st = 'hello'"
   ]
  },
  {
   "cell_type": "code",
   "execution_count": 57,
   "id": "c86d6b9a",
   "metadata": {},
   "outputs": [
    {
     "data": {
      "text/plain": [
       "'hello'"
      ]
     },
     "execution_count": 57,
     "metadata": {},
     "output_type": "execute_result"
    }
   ],
   "source": [
    "st.lower()"
   ]
  },
  {
   "cell_type": "code",
   "execution_count": 58,
   "id": "32a95f89",
   "metadata": {},
   "outputs": [
    {
     "data": {
      "text/plain": [
       "'HELLO'"
      ]
     },
     "execution_count": 58,
     "metadata": {},
     "output_type": "execute_result"
    }
   ],
   "source": [
    "st.upper()"
   ]
  },
  {
   "cell_type": "code",
   "execution_count": 59,
   "id": "24de5988",
   "metadata": {},
   "outputs": [
    {
     "data": {
      "text/plain": [
       "['hello']"
      ]
     },
     "execution_count": 59,
     "metadata": {},
     "output_type": "execute_result"
    }
   ],
   "source": [
    "st.split()"
   ]
  },
  {
   "cell_type": "code",
   "execution_count": 60,
   "id": "5359b3b8",
   "metadata": {},
   "outputs": [],
   "source": [
    "tweet = 'go'"
   ]
  },
  {
   "cell_type": "code",
   "execution_count": 61,
   "id": "6204e0ed",
   "metadata": {},
   "outputs": [
    {
     "data": {
      "text/plain": [
       "['go']"
      ]
     },
     "execution_count": 61,
     "metadata": {},
     "output_type": "execute_result"
    }
   ],
   "source": [
    "tweet.split('#')"
   ]
  },
  {
   "cell_type": "code",
   "execution_count": 67,
   "id": "6ecdb132",
   "metadata": {},
   "outputs": [],
   "source": [
    "d = {'key1': 'item1', 'key2': 'item2'}"
   ]
  },
  {
   "cell_type": "code",
   "execution_count": 68,
   "id": "b3d0a7e4",
   "metadata": {},
   "outputs": [
    {
     "data": {
      "text/plain": [
       "dict_keys(['key1', 'key2'])"
      ]
     },
     "execution_count": 68,
     "metadata": {},
     "output_type": "execute_result"
    }
   ],
   "source": [
    "d.keys()"
   ]
  },
  {
   "cell_type": "code",
   "execution_count": 69,
   "id": "61972551",
   "metadata": {},
   "outputs": [
    {
     "data": {
      "text/plain": [
       "dict_items([('key1', 'item1'), ('key2', 'item2')])"
      ]
     },
     "execution_count": 69,
     "metadata": {},
     "output_type": "execute_result"
    }
   ],
   "source": [
    "d.items()"
   ]
  },
  {
   "cell_type": "code",
   "execution_count": 70,
   "id": "a495760e",
   "metadata": {},
   "outputs": [],
   "source": [
    "lst = [1,2,3]"
   ]
  },
  {
   "cell_type": "code",
   "execution_count": 71,
   "id": "a627f7f3",
   "metadata": {},
   "outputs": [
    {
     "data": {
      "text/plain": [
       "3"
      ]
     },
     "execution_count": 71,
     "metadata": {},
     "output_type": "execute_result"
    }
   ],
   "source": [
    "lst.pop()"
   ]
  },
  {
   "cell_type": "code",
   "execution_count": 72,
   "id": "44a8d5ce",
   "metadata": {},
   "outputs": [
    {
     "data": {
      "text/plain": [
       "[1, 2]"
      ]
     },
     "execution_count": 72,
     "metadata": {},
     "output_type": "execute_result"
    }
   ],
   "source": [
    "lst"
   ]
  },
  {
   "cell_type": "code",
   "execution_count": 73,
   "id": "b257442e",
   "metadata": {},
   "outputs": [
    {
     "data": {
      "text/plain": [
       "False"
      ]
     },
     "execution_count": 73,
     "metadata": {},
     "output_type": "execute_result"
    }
   ],
   "source": [
    "'x' in [1,2,3]"
   ]
  },
  {
   "cell_type": "code",
   "execution_count": 74,
   "id": "409fd988",
   "metadata": {},
   "outputs": [
    {
     "data": {
      "text/plain": [
       "True"
      ]
     },
     "execution_count": 74,
     "metadata": {},
     "output_type": "execute_result"
    }
   ],
   "source": [
    "'x' in ['x',1]"
   ]
  },
  {
   "cell_type": "code",
   "execution_count": 75,
   "id": "b8f61358",
   "metadata": {},
   "outputs": [
    {
     "data": {
      "text/plain": [
       "2401"
      ]
     },
     "execution_count": 75,
     "metadata": {},
     "output_type": "execute_result"
    }
   ],
   "source": [
    "7**4\n"
   ]
  },
  {
   "cell_type": "code",
   "execution_count": 78,
   "id": "01ce395d",
   "metadata": {},
   "outputs": [
    {
     "name": "stdout",
     "output_type": "stream",
     "text": [
      "['Hi', 'there', 'Sam!']\n"
     ]
    }
   ],
   "source": [
    "txt = \"Hi there Sam!\"\n",
    "\n",
    "x = txt.split()\n",
    "\n",
    "print(x)\n"
   ]
  },
  {
   "cell_type": "code",
   "execution_count": 79,
   "id": "19631698",
   "metadata": {},
   "outputs": [
    {
     "name": "stdout",
     "output_type": "stream",
     "text": [
      "['Hi', 'there', 'Phuong!']\n"
     ]
    }
   ],
   "source": [
    "txt = \"Hi there Sam!\"\n",
    "a = txt.replace('Sam!', 'Phuong!')\n",
    "\n",
    "x = a.split()\n",
    "\n",
    "print(x)\n",
    "\n"
   ]
  },
  {
   "cell_type": "code",
   "execution_count": 80,
   "id": "21e9d0bf",
   "metadata": {},
   "outputs": [
    {
     "name": "stdout",
     "output_type": "stream",
     "text": [
      "The diameter of Earth 12745 Kilometers.\n"
     ]
    }
   ],
   "source": [
    "txt = \"The diameter of Earth {diameter:} Kilometers.\"\n",
    "print(txt.format(diameter = 12745))\n"
   ]
  },
  {
   "cell_type": "code",
   "execution_count": 81,
   "id": "e7c47164",
   "metadata": {},
   "outputs": [],
   "source": [
    "lst = [1,2,[3,4],[5,[100,200,['ok']],23,11],1,7]\n"
   ]
  },
  {
   "cell_type": "code",
   "execution_count": 85,
   "id": "8161c954",
   "metadata": {},
   "outputs": [
    {
     "data": {
      "text/plain": [
       "'ok'"
      ]
     },
     "execution_count": 85,
     "metadata": {},
     "output_type": "execute_result"
    }
   ],
   "source": [
    "lst[3][1][2][0]"
   ]
  },
  {
   "cell_type": "code",
   "execution_count": 86,
   "id": "8c2017cf",
   "metadata": {},
   "outputs": [],
   "source": [
    "def domainGet(email):\n",
    "    return email.split('@')[-1]"
   ]
  },
  {
   "cell_type": "code",
   "execution_count": 87,
   "id": "0cdb321c",
   "metadata": {},
   "outputs": [
    {
     "data": {
      "text/plain": [
       "'domain.com'"
      ]
     },
     "execution_count": 87,
     "metadata": {},
     "output_type": "execute_result"
    }
   ],
   "source": [
    "domainGet('user@domain.com')\n"
   ]
  },
  {
   "cell_type": "code",
   "execution_count": 88,
   "id": "a211d146",
   "metadata": {},
   "outputs": [],
   "source": [
    "def findDog(st):\n",
    "    return 'dog' in st.lower().split()"
   ]
  },
  {
   "cell_type": "code",
   "execution_count": 89,
   "id": "e6d1bb8d",
   "metadata": {},
   "outputs": [
    {
     "data": {
      "text/plain": [
       "True"
      ]
     },
     "execution_count": 89,
     "metadata": {},
     "output_type": "execute_result"
    }
   ],
   "source": [
    "findDog('Is there a dog here?')\n"
   ]
  },
  {
   "cell_type": "code",
   "execution_count": 90,
   "id": "8791cbe9",
   "metadata": {},
   "outputs": [],
   "source": [
    "def countDog(st):\n",
    "    count = 0\n",
    "    for word in st.lower().split():\n",
    "        if word == 'dog':\n",
    "            count += 1\n",
    "    return count"
   ]
  },
  {
   "cell_type": "code",
   "execution_count": 91,
   "id": "00d62efe",
   "metadata": {},
   "outputs": [
    {
     "data": {
      "text/plain": [
       "2"
      ]
     },
     "execution_count": 91,
     "metadata": {},
     "output_type": "execute_result"
    }
   ],
   "source": [
    "countDog('This dog runs faster than the other dog dude!')"
   ]
  },
  {
   "cell_type": "code",
   "execution_count": 92,
   "id": "2f705e23",
   "metadata": {},
   "outputs": [],
   "source": [
    "seq = ['soup','dog','salad','cat','great']"
   ]
  },
  {
   "cell_type": "code",
   "execution_count": 93,
   "id": "cf697593",
   "metadata": {},
   "outputs": [
    {
     "data": {
      "text/plain": [
       "['soup', 'salad']"
      ]
     },
     "execution_count": 93,
     "metadata": {},
     "output_type": "execute_result"
    }
   ],
   "source": [
    "['soup','salad']\n"
   ]
  },
  {
   "cell_type": "code",
   "execution_count": 94,
   "id": "326befa8",
   "metadata": {},
   "outputs": [],
   "source": [
    "seq = ['soup','dog','salad','cat','great']"
   ]
  },
  {
   "cell_type": "code",
   "execution_count": 95,
   "id": "da01d6b7",
   "metadata": {},
   "outputs": [
    {
     "data": {
      "text/plain": [
       "['soup', 'salad']"
      ]
     },
     "execution_count": 95,
     "metadata": {},
     "output_type": "execute_result"
    }
   ],
   "source": [
    "list(filter(lambda word: word[0]=='s',seq))"
   ]
  },
  {
   "cell_type": "code",
   "execution_count": 96,
   "id": "9dc2aca4",
   "metadata": {},
   "outputs": [],
   "source": [
    "def caught_speeding(speed, is_birthday):\n",
    "    \n",
    "    if is_birthday:\n",
    "        speeding = speed - 5\n",
    "    else:\n",
    "        speeding = speed\n",
    "    \n",
    "    if speeding > 80:\n",
    "        return 'Big Ticket'\n",
    "    elif speeding > 60:\n",
    "        return 'Small Ticket'\n",
    "    else:\n",
    "        return 'No Ticket'"
   ]
  },
  {
   "cell_type": "code",
   "execution_count": 97,
   "id": "cacc4ba6",
   "metadata": {},
   "outputs": [
    {
     "data": {
      "text/plain": [
       "'Small Ticket'"
      ]
     },
     "execution_count": 97,
     "metadata": {},
     "output_type": "execute_result"
    }
   ],
   "source": [
    "caught_speeding(81,True)"
   ]
  },
  {
   "cell_type": "code",
   "execution_count": 98,
   "id": "dac0a70e",
   "metadata": {},
   "outputs": [
    {
     "data": {
      "text/plain": [
       "'Big Ticket'"
      ]
     },
     "execution_count": 98,
     "metadata": {},
     "output_type": "execute_result"
    }
   ],
   "source": [
    "caught_speeding(81,False)"
   ]
  },
  {
   "cell_type": "code",
   "execution_count": null,
   "id": "2f6d4637",
   "metadata": {},
   "outputs": [],
   "source": []
  }
 ],
 "metadata": {
  "kernelspec": {
   "display_name": "Python 3 (ipykernel)",
   "language": "python",
   "name": "python3"
  },
  "language_info": {
   "codemirror_mode": {
    "name": "ipython",
    "version": 3
   },
   "file_extension": ".py",
   "mimetype": "text/x-python",
   "name": "python",
   "nbconvert_exporter": "python",
   "pygments_lexer": "ipython3",
   "version": "3.9.7"
  }
 },
 "nbformat": 4,
 "nbformat_minor": 5
}
